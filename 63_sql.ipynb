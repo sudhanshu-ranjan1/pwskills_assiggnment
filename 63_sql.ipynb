{
 "cells": [
  {
   "cell_type": "raw",
   "id": "74104fb3-bda9-4287-a574-25402992c950",
   "metadata": {},
   "source": [
    "Q1.  What is a database? Differentiate between SQL and NoSQL databases?\n",
    "\n",
    "Ans:- A database is an organized collection of structured information, or data, typically stored electronically in a computer system. A database is usually controlled by a database management system (DBMS). Together, the data and the DBMS, along with the applications that are associated with them, are referred to as a database system, often shortened to just database.\n",
    " \n",
    " SQL:- It is also known as relational database management system(RDBMS).\n",
    "       These databases have fixed or static or predefined schema\n",
    "       These databases are not suited for hierarchical data storage.\n",
    "       These databases are best suited for complex queries.\n",
    "       It is vertically scalable.\n",
    "       Follows ACID property.\n",
    "       Examples: MySQL, PostgreSQL, Oracle, MS-SQL Server, etc\n",
    "       \n",
    " NoSQL:-Non-relational or distributed database system.\n",
    "        They have dynamic schema\n",
    "         These databases are best suited for hierarchical data storage.\n",
    "         These databases are not so good for complex queries.\n",
    "         Horizontally scalable.\n",
    "        Follows CAP(consistency, availability, partition tolerance)\n",
    "        Examples: MongoDB, GraphQL, HBase, Neo4j, Cassandra, etc\n",
    "\n"
   ]
  },
  {
   "cell_type": "raw",
   "id": "0274b670-d87d-4051-90db-8f8d79f7905e",
   "metadata": {},
   "source": [
    "Q2. What is DDL? Explain why CREATE, DROP, ALTER, and TRUNCATE are used with an example.\n",
    "\n",
    "Ans:- Data Definition Language(DDL) is a subset of SQL and a part of DBMS(Database Management System). \n",
    "      DDL consist of Commands to commands like CREATE, ALTER, TRUNCATE and DROP. \n",
    "      These commands are used to create or modify the tables in SQL.\n",
    "      \n",
    "1. CREATE :-This command is used to create a new table in SQL. The user has to give information like table name, column names, and their datatypes.\n",
    "\n",
    "CREATE TABLE Student_info\n",
    "(\n",
    "College_Id number(2),\n",
    "College_name varchar(30),\n",
    "Branch varchar(10)\n",
    ");\n",
    "\n",
    "2.ALTER :\n",
    "This command is used to add, delete or change columns in the existing table. The user needs to know the existing table name and can do add, delete or modify tasks easily.\n",
    "\n",
    "ALTER TABLE Student_info\n",
    "ADD CGPA number;\n",
    "\n",
    "3.TRUNCATE :\n",
    "This command is used to remove all rows from the table, but the structure of the table still exists\n",
    "\n",
    "TRUNCATE TABLE Student_info;\n",
    "\n",
    "4.DROP :\n",
    "This command is used to remove an existing table along with its structure from the Database.\n",
    "\n",
    "DROP TABLE Student_info;\n",
    "\n",
    "5.RENAME:\n",
    "\n",
    "It is possible to change name of table with or without data in it using simple RENAME command.\n",
    "\n",
    "RENAME TABLE Employee To EMP;\n",
    "      "
   ]
  },
  {
   "cell_type": "raw",
   "id": "25fd8e58-a0a7-42f9-b9dd-7989d02d0a56",
   "metadata": {},
   "source": [
    "Q3. What is DML? Explain INSERT, UPDATE, and DELETE with an example.\n",
    "Ans:- The structured query language (SQL) commands deal with the manipulation of data present in the database that belongs to the DML or Data Manipulation Language. This includes most of the SQL statements.\n",
    "\n",
    "Examples of DML\n",
    "The examples of DML in the Database Management System (DBMS) are as follows −\n",
    "\n",
    "SELECT − Retrieve data from the database.\n",
    "\n",
    "INSERT − Insert data into a table.\n",
    "\n",
    "UPDATE − Update existing data within a table.\n",
    "\n",
    "DELETE − Delete records from a database table."
   ]
  },
  {
   "cell_type": "raw",
   "id": "5c16b330-01c9-4e7e-b1b3-ccd0df48c047",
   "metadata": {},
   "source": [
    "Q4. What is DQL? Explain SELECT with an example.\n",
    "\n",
    "Ans:-DQL or data query language is to perform the query on the data inside the schema or object (ie table, index, view, function, etc). With the help     of a DQL query, we can get the data from the database to perform actions or operations like analyzing the data.\n",
    "\n",
    "              Select command is used to fetch the data in a set of records from a table, view or a group of tables, views by making use of SQL joins."
   ]
  },
  {
   "cell_type": "raw",
   "id": "b2ffe269-b548-4555-89fc-e91a0bd3f663",
   "metadata": {},
   "source": [
    "Q5. Explain Primary Key and Foreign Key.\n",
    "Ans:-A primary key generally focuses on the uniqueness of the table. It is a column or a set of columns that uniquely distinguishes every row in the database. It means it should not have any duplicate value. Also, it doesn’t contain a NULL value.\n",
    "\n",
    "A foreign key is generally used to build a relationship between the two tables. The major purpose of the foreign key is to sustain data integrity between two separate instances of an entity.\n"
   ]
  },
  {
   "cell_type": "raw",
   "id": "f9158bd3-a9ae-48dc-a18b-054ca71e5a0d",
   "metadata": {},
   "source": [
    "Q6. Write a python code to connect MySQL to python. Explain the cursor() and execute() method.\n",
    "Ans:-\n",
    "\n",
    "import mysql.connector\n",
    "\n",
    "mydb = mysql.connector.connect(\n",
    "  host=\"localhost\",\n",
    "  user=\"yourusername\",\n",
    "  password=\"yourpassword\"\n",
    ")\n",
    "\n",
    "print(mydb)\n",
    "\n",
    "A cursor is an object which helps to execute the query and fetch the records from the database. The cursor plays a very important role in executing the query.\n",
    "\n",
    "The Execute method executes the query, SQL statement or procedure specified in the CommandText property of the Command object."
   ]
  },
  {
   "cell_type": "raw",
   "id": "34955117-b9b7-4399-b5a8-a7cf82e41052",
   "metadata": {},
   "source": [
    "Q7. Give the order of execution of SQL clauses in an SQL query.\n",
    "Ans:-\n",
    "\n",
    "SELECT: This clause is executed first to retrieve the required columns from the specified table or tables.\n",
    "\n",
    "FROM: This clause is executed after the SELECT clause to specify the table or tables from which the data is to be retrieved.\n",
    "\n",
    "JOIN: If the query involves multiple tables, the JOIN clause is executed next to combine the required data from the tables.\n",
    "\n",
    "WHERE: This clause is executed after the JOIN clause to filter the data based on the specified conditions.\n",
    "\n",
    "GROUP BY: If the query involves grouping of data, the GROUP BY clause is executed next to group the data based on the specified columns.\n",
    "\n",
    "HAVING: This clause is executed after the GROUP BY clause to filter the grouped data based on the specified conditions.\n",
    "\n",
    "ORDER BY: Finally, the ORDER BY clause is executed to sort the data based on the specified columns and order.\n",
    "\n",
    "Note that not all queries require all of these clauses, and the order of execution may vary based on the specific requirements of the query."
   ]
  }
 ],
 "metadata": {
  "kernelspec": {
   "display_name": "Python 3 (ipykernel)",
   "language": "python",
   "name": "python3"
  },
  "language_info": {
   "codemirror_mode": {
    "name": "ipython",
    "version": 3
   },
   "file_extension": ".py",
   "mimetype": "text/x-python",
   "name": "python",
   "nbconvert_exporter": "python",
   "pygments_lexer": "ipython3",
   "version": "3.10.6"
  }
 },
 "nbformat": 4,
 "nbformat_minor": 5
}
