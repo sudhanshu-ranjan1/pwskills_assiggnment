{
 "cells": [
  {
   "cell_type": "markdown",
   "id": "2417e68e-9bfb-4e1e-a658-3aa7fe8e2373",
   "metadata": {},
   "source": [
    "## Assignment 2 Function"
   ]
  },
  {
   "cell_type": "markdown",
   "id": "c646feba-367e-4e4a-81a5-30c3cf32b7e3",
   "metadata": {},
   "source": [
    "##### Q1. Which keyword is used to create a function? Create a function to return a list of odd numbers in the\n",
    "##### range of 1 to 25."
   ]
  },
  {
   "cell_type": "raw",
   "id": "c5ea6d24-5152-44e8-91df-d8e5558e3eec",
   "metadata": {},
   "source": [
    "Ans:- The def keyword is used to create a function in Python.\n",
    "\t\t"
   ]
  },
  {
   "cell_type": "code",
   "execution_count": 19,
   "id": "22394f83-23ee-4848-82b1-970d539d0ce2",
   "metadata": {},
   "outputs": [
    {
     "name": "stdout",
     "output_type": "stream",
     "text": [
      "[1, 3, 5, 7, 9, 11, 13, 15, 17, 19, 21, 23]\n"
     ]
    }
   ],
   "source": [
    "def odd_numbers():\n",
    "  odd_numbers = []\n",
    "  for i in range(1, 25):\n",
    "    if i % 2 == 1:\n",
    "      odd_numbers.append(i)\n",
    "  return odd_numbers\n",
    "odd_numbers_list = odd_numbers()\n",
    "print(odd_numbers_list)\n"
   ]
  },
  {
   "cell_type": "markdown",
   "id": "0d2e3038-9504-4a46-acb5-a51a4014eb98",
   "metadata": {},
   "source": [
    "#### Q2. Why *args and **kwargs is used in some functions? Create a function each for *args and **kwargs\n",
    "#### to demonstrate their use."
   ]
  },
  {
   "cell_type": "markdown",
   "id": "ff184dbb-74f4-4926-8edd-80c134f45182",
   "metadata": {},
   "source": [
    "\n",
    "The args and kwargs keywords are used in Python functions to allow for a variable number of arguments to be passed to the function. *args is used to pass a variable number of positional arguments, while **kwargs is used to pass a variable number of keyword arguments\n"
   ]
  },
  {
   "cell_type": "code",
   "execution_count": null,
   "id": "3600592f-1a96-4ad9-901a-c5f2cbff61a9",
   "metadata": {},
   "outputs": [],
   "source": [
    "Args example:-\n",
    "\n",
    "def my_function(*args):\n",
    "  print(\"The positional arguments are:\", args)\n",
    "\n",
    "my_function(1, 2, 3, 4, 5)\n",
    "\n",
    "output:- The positional arguments are: (1, 2, 3, 4, 5)\n",
    "\n",
    "Kwargs example:-\n",
    "\n",
    "def my_function(**kwargs):\n",
    "  print(\"The keyword arguments are:\", kwargs)\n",
    "\n",
    "my_function(name=\"John\", age=30, address=\"123 Main Street\")\n",
    "\n",
    "The keyword arguments are: {'name': 'John', 'age': 30, 'address': '123 Main Street'}\n",
    "\n",
    "\n"
   ]
  },
  {
   "cell_type": "markdown",
   "id": "48fe0c1e-1b32-4397-ac2d-601362c75a74",
   "metadata": {},
   "source": [
    "### Q3. What is an iterator in python? Name the method used to initialise the iterator object and the method\n",
    "### used for iteration. Use these methods to print the first five elements of the given list [2, 4, 6, 8, 10, 12, 14,\n",
    "### 16, 18, 20]."
   ]
  },
  {
   "cell_type": "markdown",
   "id": "acd6dfec-0417-4b90-9064-486eb417e32b",
   "metadata": {},
   "source": [
    "Ans:- An iterator in Python is an object that can be used to iterate over a sequence of elements. It is a special kind of object that knows how to loop over a sequence of data one element at a time.\n",
    "                            \n",
    "                    The method used to initialize the iterator object is __iter__() and the method used for iteration is __next__()\n",
    "                           "
   ]
  },
  {
   "cell_type": "code",
   "execution_count": 1,
   "id": "9466fe01-b9dc-402b-b083-4abd86dadb73",
   "metadata": {},
   "outputs": [
    {
     "name": "stdout",
     "output_type": "stream",
     "text": [
      "2\n",
      "4\n",
      "6\n",
      "8\n",
      "10\n"
     ]
    }
   ],
   "source": [
    "def print_first_five(list_of_numbers):\n",
    "    iterator = iter(list_of_numbers)\n",
    "    for i in range(5):\n",
    "        print(next(iterator))\n",
    "\n",
    "list_of_numbers = [2, 4, 6, 8, 10, 12, 14, 16, 18, 20]\n",
    "print_first_five(list_of_numbers)\n"
   ]
  },
  {
   "cell_type": "markdown",
   "id": "ed4e0acf-3915-4e91-a8b1-df8aaf368598",
   "metadata": {},
   "source": [
    "#### Q4. What is a generator function in python? Why yield keyword is used? Give an example of a generator\n",
    "function."
   ]
  },
  {
   "cell_type": "markdown",
   "id": "76e1857b-fcd2-4615-a31a-d2181a1c2c77",
   "metadata": {},
   "source": [
    "Ans:- A generator function in Python is a special type of function that returns an iterator. It is a function that can be used to generate a sequence of values, but it does not actually store the entire sequence in memory. Instead, it generates the values one at a time, as they are needed.\n",
    "\n",
    "                  The yield keyword is used in generator functions to pause the execution of the function and return a value. When the yield keyword is encountered, the function will save its state and return the value. The next time the function is called, it will resume execution from where it left off."
   ]
  },
  {
   "cell_type": "code",
   "execution_count": null,
   "id": "6c1acb62-9f97-423a-9b44-a86e5d363e6a",
   "metadata": {},
   "outputs": [],
   "source": [
    "def fibonacci():\n",
    "    a, b = 0, 1\n",
    "    while True:\n",
    "        yield a\n",
    "        a, b = b, a + b\n",
    "\n",
    "iterator = fibonacci()\n",
    "\n",
    "for number in iterator:\n",
    "    print(number)\n"
   ]
  },
  {
   "cell_type": "markdown",
   "id": "92cf458f-53cf-448a-8626-b5a480cdba34",
   "metadata": {},
   "source": [
    "### Q5. Create a generator function for prime numbers less than 1000. Use the next() method to print the first 20 prime numbers."
   ]
  },
  {
   "cell_type": "code",
   "execution_count": 1,
   "id": "f76fc3c0-b686-4b98-9935-601f4397bb7d",
   "metadata": {},
   "outputs": [
    {
     "name": "stdout",
     "output_type": "stream",
     "text": [
      "2\n",
      "2\n",
      "2\n",
      "2\n",
      "2\n",
      "2\n",
      "2\n",
      "2\n",
      "2\n",
      "2\n",
      "2\n",
      "2\n",
      "2\n",
      "2\n",
      "2\n",
      "2\n",
      "2\n",
      "2\n",
      "2\n",
      "2\n"
     ]
    }
   ],
   "source": [
    "def prime_generator():\n",
    "    primes = []\n",
    "    for i in range(2, 1000):\n",
    "        is_prime = True\n",
    "        for j in primes:\n",
    "            if i % j == 0:\n",
    "                is_prime = False\n",
    "                break\n",
    "        if is_prime:\n",
    "            primes.append(i)\n",
    "            yield i\n",
    "\n",
    "\n",
    "for i in range(20):\n",
    "    print(next(prime_generator()))\n"
   ]
  },
  {
   "cell_type": "markdown",
   "id": "9ae7dcca-25d8-4d4f-9dd9-90b147ca9bde",
   "metadata": {},
   "source": [
    "### Q6. Write a python program to print the first 10 Fibonacci numbers using a while loop."
   ]
  },
  {
   "cell_type": "code",
   "execution_count": 2,
   "id": "8587965b-64b6-47b8-911f-ad91fd7315c8",
   "metadata": {},
   "outputs": [
    {
     "name": "stdout",
     "output_type": "stream",
     "text": [
      "0\n",
      "1\n",
      "1\n",
      "2\n",
      "3\n",
      "5\n",
      "8\n",
      "13\n",
      "21\n",
      "34\n"
     ]
    }
   ],
   "source": [
    "def fibonacci(n):\n",
    "    if n == 0:\n",
    "        return 0\n",
    "    elif n == 1:\n",
    "        return 1\n",
    "    else:\n",
    "        return fibonacci(n - 1) + fibonacci(n - 2)\n",
    "\n",
    "\n",
    "def main():\n",
    "    i = 0\n",
    "    while i < 10:\n",
    "        print(fibonacci(i))\n",
    "        i += 1\n",
    "\n",
    "\n",
    "if __name__ == \"__main__\":\n",
    "    main()\n"
   ]
  },
  {
   "cell_type": "markdown",
   "id": "12719dc3-0186-4a6b-bc49-86bbdcc23664",
   "metadata": {},
   "source": [
    "### Q7. Write a List Comprehension to iterate through the given string: ‘pwskills’.\n",
    "### Expected output: ['p', 'w', 's', 'k', 'i', 'l', 'l', 's']"
   ]
  },
  {
   "cell_type": "code",
   "execution_count": 3,
   "id": "c3e2be14-ab19-4ad4-b923-67442851ca08",
   "metadata": {},
   "outputs": [
    {
     "name": "stdout",
     "output_type": "stream",
     "text": [
      "['p', 'w', 's', 'k', 'i', 'l', 'l', 's']\n"
     ]
    }
   ],
   "source": [
    "def list_comprehension():\n",
    "    string = 'pwskills'\n",
    "    list_of_characters = [letter for letter in string]\n",
    "    return list_of_characters\n",
    "\n",
    "\n",
    "if __name__ == \"__main__\":\n",
    "    list_of_characters = list_comprehension()\n",
    "    print(list_of_characters)\n"
   ]
  },
  {
   "cell_type": "markdown",
   "id": "c318db3b-7fda-4945-955d-6838a66a7835",
   "metadata": {},
   "source": [
    "### Q8. Write a python program to check whether a given number is Palindrome or not using a while loop."
   ]
  },
  {
   "cell_type": "code",
   "execution_count": 11,
   "id": "4de126c6-a325-403b-9ead-8930fbe4b821",
   "metadata": {},
   "outputs": [
    {
     "name": "stdout",
     "output_type": "stream",
     "text": [
      "False\n"
     ]
    }
   ],
   "source": [
    "def is_palindrome(number):\n",
    "    rev_number = 0\n",
    "    temp = number\n",
    "    while temp > 0:\n",
    "        digit = temp % 10\n",
    "        rev_number = rev_number * 10 + digit\n",
    "        temp //= 10\n",
    "    return number == rev_number\n",
    "\n",
    "\n",
    "def main():\n",
    "    number = 1421\n",
    "    print(is_palindrome(number))\n",
    "\n",
    "\n",
    "if __name__ == \"__main__\":\n",
    "    main()\n"
   ]
  },
  {
   "cell_type": "markdown",
   "id": "eb49b8bb-84d1-4aef-ba2c-a6ea7cdae0f7",
   "metadata": {},
   "source": [
    "### Q9. Write a code to print odd numbers from 1 to 100 using list comprehension.\n",
    "### Note: Use a list comprehension to create a list from 1 to 100 and use another List comprehension to filter out odd numbers."
   ]
  },
  {
   "cell_type": "code",
   "execution_count": 12,
   "id": "5e55365e-e35a-4501-a1ab-efce70a71550",
   "metadata": {},
   "outputs": [
    {
     "name": "stdout",
     "output_type": "stream",
     "text": [
      "[1, 3, 5, 7, 9, 11, 13, 15, 17, 19, 21, 23, 25, 27, 29, 31, 33, 35, 37, 39, 41, 43, 45, 47, 49, 51, 53, 55, 57, 59, 61, 63, 65, 67, 69, 71, 73, 75, 77, 79, 81, 83, 85, 87, 89, 91, 93, 95, 97, 99]\n"
     ]
    }
   ],
   "source": [
    "def print_odd_numbers():\n",
    "    numbers = list(range(1, 100))\n",
    "    odd_numbers = [number for number in numbers if number % 2 != 0]\n",
    "    print(odd_numbers)\n",
    "\n",
    "\n",
    "if __name__ == \"__main__\":\n",
    "    print_odd_numbers()\n"
   ]
  }
 ],
 "metadata": {
  "kernelspec": {
   "display_name": "Python 3 (ipykernel)",
   "language": "python",
   "name": "python3"
  },
  "language_info": {
   "codemirror_mode": {
    "name": "ipython",
    "version": 3
   },
   "file_extension": ".py",
   "mimetype": "text/x-python",
   "name": "python",
   "nbconvert_exporter": "python",
   "pygments_lexer": "ipython3",
   "version": "3.10.6"
  }
 },
 "nbformat": 4,
 "nbformat_minor": 5
}
