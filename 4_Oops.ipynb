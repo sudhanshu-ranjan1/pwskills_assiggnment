{
 "cells": [
  {
   "cell_type": "markdown",
   "id": "ac00752d-7deb-4a12-b861-0a2c76921557",
   "metadata": {},
   "source": [
    "### Q1. Explain Class and Object with respect to Object-Oriented Programming. Give a suitable example."
   ]
  },
  {
   "cell_type": "markdown",
   "id": "c14dfe0c-c9b1-40c8-b9b5-e9cb71e3758c",
   "metadata": {},
   "source": [
    "A class is a blueprint for creating objects. A class defines the attributes and methods of an object, as well as the relationships between objects.\n",
    "\n",
    "An object is a self-contained entity that has data and behavior. The data is stored in the object's attributes, and the behavior is defined by the object's methods. Objects can interact with each other by sending messages.class Dog:\n",
    "\tsound = \"bark\"\n"
   ]
  },
  {
   "cell_type": "code",
   "execution_count": 3,
   "id": "ef21e437-3220-4ff9-8218-5513a39d11f2",
   "metadata": {},
   "outputs": [],
   "source": [
    "#class\n",
    "class Dog:\n",
    "\tsound = \"bark\""
   ]
  },
  {
   "cell_type": "code",
   "execution_count": 4,
   "id": "226b18f4-0e50-4687-8cc7-ab188230f43c",
   "metadata": {},
   "outputs": [
    {
     "name": "stdout",
     "output_type": "stream",
     "text": [
      "mammal\n",
      "I'm a mammal\n",
      "I'm a dog\n"
     ]
    }
   ],
   "source": [
    "#object\n",
    "class Dog:\n",
    "\tattr1 = \"mammal\"\n",
    "\tattr2 = \"dog\"\n",
    "\tdef fun(self):\n",
    "\t\tprint(\"I'm a\", self.attr1)\n",
    "\t\tprint(\"I'm a\", self.attr2)\n",
    "\n",
    "Rodger = Dog()\n",
    "print(Rodger.attr1)\n",
    "Rodger.fun()\n"
   ]
  },
  {
   "cell_type": "markdown",
   "id": "d807355d-85d4-4f4b-a0c3-f4f171abadc2",
   "metadata": {},
   "source": [
    "### Q2. Name the four pillars of OOPs."
   ]
  },
  {
   "cell_type": "markdown",
   "id": "6e583ccf-f478-47d0-9d56-43386ca3c032",
   "metadata": {},
   "source": [
    "The four pillars of OOPs are:-\n",
    "\n",
    "Abstraction: Abstraction is the process of hiding the unnecessary details of an object. This makes it easier to understand and use the object.\n",
    "\n",
    "Encapsulation: Encapsulation is the process of wrapping data and behavior into a single unit. This helps to protect the data and to make the object more secure.\n",
    "\n",
    "Inheritance: Inheritance is the process of creating a new object from an existing object. This allows the new object to share the data and behavior of the parent object.\n",
    "\n",
    "Polymorphism: Polymorphism is the ability of an object to take on multiple forms. This allows objects to be treated in a generic way, regardless of their specific type."
   ]
  },
  {
   "cell_type": "markdown",
   "id": "e4574261-cb2e-4ba7-8f1f-cdcfa69852cc",
   "metadata": {},
   "source": [
    "### Q3. Explain why the __init__() function is used. Give a suitable example."
   ]
  },
  {
   "cell_type": "markdown",
   "id": "de0b7bee-d267-4533-b381-d7adce9b700d",
   "metadata": {},
   "source": [
    " The __init__() function is used to initialize the attributes of an object when it is created. It is called automatically when an object is created, and it cannot be called explicitly.\n",
    "\n",
    "The __init__() function is often used to initialize the data members of an object. For example, the following code creates a Car object and initializes its make, model, and year attributes"
   ]
  },
  {
   "cell_type": "code",
   "execution_count": 2,
   "id": "c80f3e02-cf3a-40cc-a993-54258986bffe",
   "metadata": {},
   "outputs": [
    {
     "name": "stdout",
     "output_type": "stream",
     "text": [
      "Honda\n",
      "Accord\n",
      "2023\n"
     ]
    }
   ],
   "source": [
    "class Car:\n",
    "  def __init__(self, make, model, year):\n",
    "    self.make = make\n",
    "    self.model = model\n",
    "    self.year = year\n",
    "\n",
    "car = Car(\"Honda\", \"Accord\", 2023)\n",
    "\n",
    "print(car.make)\n",
    "# \"Honda\"\n",
    "\n",
    "print(car.model)\n",
    "# \"Accord\"\n",
    "\n",
    "print(car.year)\n",
    "# 2023\n"
   ]
  },
  {
   "cell_type": "markdown",
   "id": "08ea6d8b-0298-4c0e-a831-0fcf76da143b",
   "metadata": {},
   "source": [
    "### Q4. Why self is used in OOPs?"
   ]
  },
  {
   "cell_type": "markdown",
   "id": "6541bd0b-a49c-4ca8-a134-c4258eee3b10",
   "metadata": {},
   "source": [
    "The self keyword is used in object-oriented programming (OOP) to refer to the current instance of the class. It is used to access the attributes and methods of the class.\n",
    "\n",
    "In Python, the self keyword is automatically passed as the first argument to all methods in a class. This allows the method to access the attributes and methods of the class."
   ]
  },
  {
   "cell_type": "markdown",
   "id": "c94116f7-b600-4a04-876f-2117feda8c6a",
   "metadata": {},
   "source": [
    "### Q5. What is inheritance? Give an example for each type of inheritance."
   ]
  },
  {
   "cell_type": "markdown",
   "id": "ad59a222-07ef-4c42-9301-da45e1c773ec",
   "metadata": {},
   "source": [
    "\n",
    "Inheritance is a powerful concept in object-oriented programming (OOP) that allows one class to inherit the properties and behaviors of another class. This means that the derived class can reuse the code of the base class, which can save time and effort in coding.\n",
    "\n",
    "There are two main types of inheritance: single inheritance and multiple inheritance.\n",
    "\n",
    "Single inheritance occurs when a derived class inherits from a single base class. For example, a Car class might inherit from a Vehicle class. This would mean that the Car class would have all of the properties and behaviors of the Vehicle class, as well as any additional properties and behaviors that are specific to cars.\n",
    "\n",
    "Multiple inheritance occurs when a derived class inherits from multiple base classes. For example, a SportsCar class might inherit from both a Car class and a SportsVehicle class. This would mean that the SportsCar class would have all of the properties and behaviors of the Car class and the SportsVehicle class."
   ]
  }
 ],
 "metadata": {
  "kernelspec": {
   "display_name": "Python 3 (ipykernel)",
   "language": "python",
   "name": "python3"
  },
  "language_info": {
   "codemirror_mode": {
    "name": "ipython",
    "version": 3
   },
   "file_extension": ".py",
   "mimetype": "text/x-python",
   "name": "python",
   "nbconvert_exporter": "python",
   "pygments_lexer": "ipython3",
   "version": "3.10.6"
  }
 },
 "nbformat": 4,
 "nbformat_minor": 5
}
