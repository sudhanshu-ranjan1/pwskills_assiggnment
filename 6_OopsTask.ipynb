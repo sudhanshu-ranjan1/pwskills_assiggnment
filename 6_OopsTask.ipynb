{
 "cells": [
  {
   "cell_type": "markdown",
   "id": "f05a4fb9-027e-4ce4-b908-3367fad7f074",
   "metadata": {},
   "source": [
    "### Q1, Create a vehicle class with an init method having instance variables as name_of_vehicle, max_speed and average_of_vehicle."
   ]
  },
  {
   "cell_type": "code",
   "execution_count": 4,
   "id": "a1949020-3cf1-4062-a83b-f248bbdc32d2",
   "metadata": {},
   "outputs": [
    {
     "name": "stdout",
     "output_type": "stream",
     "text": [
      "Name of vehicle: Car\n",
      "Maximum speed: 200\n",
      "Average speed: 60\n"
     ]
    }
   ],
   "source": [
    "class Vehicle:\n",
    "    def __init__(self, name_of_vehicle, max_speed, average_of_vehicle):\n",
    "        self.name_of_vehicle = name_of_vehicle\n",
    "        self.max_speed = max_speed\n",
    "        self.average_of_vehicle = average_of_vehicle\n",
    "\n",
    "    def print_details(self):\n",
    "        print(f\"Name of vehicle: {self.name_of_vehicle}\")\n",
    "        print(f\"Maximum speed: {self.max_speed}\")\n",
    "        print(f\"Average speed: {self.average_of_vehicle}\")\n",
    "\n",
    "\n",
    "vehicle = Vehicle(\"Car\", 200, 60)\n",
    "vehicle.print_details()\n"
   ]
  },
  {
   "cell_type": "markdown",
   "id": "8974bcf2-a054-48c9-b2b6-6c8579711719",
   "metadata": {},
   "source": [
    "### Q2. Create a child class car from the vehicle class created in Que 1, which will inherit the vehicle class.\n",
    "### Create a method named seating_capacity which takes capacity as an argument and returns the name of the vehicle and its seating capacity.\n"
   ]
  },
  {
   "cell_type": "code",
   "execution_count": 1,
   "id": "92b110fa-19aa-4e24-b245-80a0a11629e8",
   "metadata": {},
   "outputs": [
    {
     "name": "stdout",
     "output_type": "stream",
     "text": [
      "The vehicle Maruti Swift has a seating capacity of 5\n"
     ]
    }
   ],
   "source": [
    "class Vehicle:\n",
    "\n",
    "  def __init__(self, mileage, cost):\n",
    "    self.mileage = mileage\n",
    "    self.cost = cost\n",
    "\n",
    "  def show_details(self):\n",
    "    print(\"Mileage: \", self.mileage)\n",
    "    print(\"Cost: \", self.cost)\n",
    "\n",
    "class Car(Vehicle):\n",
    "\n",
    "  def __init__(self, mileage, cost, model, capacity):\n",
    "    super().__init__(mileage, cost)\n",
    "    self.model = model\n",
    "    self.capacity = capacity\n",
    "\n",
    "  def seating_capacity(self):\n",
    "    return \"The vehicle {} has a seating capacity of {}\".format(self.model, self.capacity)\n",
    "\n",
    "car = Car(200, 1200, \"Maruti Swift\", 5)\n",
    "\n",
    "print(car.seating_capacity())\n"
   ]
  },
  {
   "cell_type": "markdown",
   "id": "531fdc4d-7f0f-4022-81ac-0e12801a2866",
   "metadata": {},
   "source": [
    "### Q3. What is multiple inheritance? Write a python code to demonstrate multiple inheritance."
   ]
  },
  {
   "cell_type": "markdown",
   "id": "a2dd406c-7071-46e8-908d-d619866f6356",
   "metadata": {},
   "source": [
    "Multiple inheritance is a feature in object-oriented programming (OOP) that allows a class to inherit from multiple parent classes. This means that the child class can inherit the attributes and methods from all of its parent classes."
   ]
  },
  {
   "cell_type": "code",
   "execution_count": 2,
   "id": "902bf475-f97c-46cd-b054-bd2fc60e9391",
   "metadata": {},
   "outputs": [
    {
     "name": "stdout",
     "output_type": "stream",
     "text": [
      "I am an animal!\n",
      "Woof!\n",
      "Meow!\n",
      "Awoo!\n"
     ]
    }
   ],
   "source": [
    "class Animal:\n",
    "\n",
    "  def __init__(self, name):\n",
    "    self.name = name\n",
    "\n",
    "  def make_sound(self):\n",
    "    print(\"I am an animal!\")\n",
    "\n",
    "class Dog(Animal):\n",
    "\n",
    "  def bark(self):\n",
    "    print(\"Woof!\")\n",
    "\n",
    "class Cat(Animal):\n",
    "\n",
    "  def meow(self):\n",
    "    print(\"Meow!\")\n",
    "\n",
    "class Wolf(Dog, Cat):\n",
    "\n",
    "  def howl(self):\n",
    "    print(\"Awoo!\")\n",
    "\n",
    "wolf = Wolf(\"Willow\")\n",
    "\n",
    "wolf.make_sound()  # I am an animal!\n",
    "wolf.bark()  # Woof!\n",
    "wolf.meow()  # Meow!\n",
    "wolf.howl()  # Awoo!\n"
   ]
  },
  {
   "cell_type": "markdown",
   "id": "e3c3ddd8-c23e-431b-8906-ad5dec5ed5e6",
   "metadata": {},
   "source": [
    "### Q4. What are getter and setter in python? Create a class and create a getter and a setter method in this class."
   ]
  },
  {
   "cell_type": "markdown",
   "id": "6cb1e8da-7685-4608-ab2a-ca3e36a03ff6",
   "metadata": {},
   "source": [
    "Getters and setters are special methods in Python that are used to access and modify the attributes of an object. Getters are used to get the value of an attribute, while setters are used to set the value of an attribute."
   ]
  },
  {
   "cell_type": "code",
   "execution_count": 5,
   "id": "d69417e3-4350-4699-abf2-2d478d3ffc7a",
   "metadata": {},
   "outputs": [
    {
     "name": "stdout",
     "output_type": "stream",
     "text": [
      "John Doe\n",
      "Jane Doe\n"
     ]
    }
   ],
   "source": [
    "class Person:\n",
    "\n",
    "  def __init__(self, name):\n",
    "    self._name = name\n",
    "\n",
    "  def get_name(self):\n",
    "    return self._name\n",
    "\n",
    "  def set_name(self, new_name):\n",
    "    self._name = new_name\n",
    "\n",
    "person = Person(\"John Doe\")\n",
    "\n",
    "print(person.get_name())  # John Doe\n",
    "person.set_name(\"Jane Doe\")\n",
    "print(person.get_name())  # Jane Doe\n"
   ]
  },
  {
   "cell_type": "markdown",
   "id": "eb3ab3d6-fb4e-4734-95c1-6bafa1593782",
   "metadata": {},
   "source": []
  },
  {
   "cell_type": "markdown",
   "id": "aa6032b0-0bf3-45ac-ac52-7e451a8cb75a",
   "metadata": {},
   "source": [
    "### Q5.What is method overriding in python? Write a python code to demonstrate method overriding."
   ]
  },
  {
   "cell_type": "markdown",
   "id": "5d16a366-de41-466d-89e4-dd1752dff2a0",
   "metadata": {},
   "source": [
    " Method overriding is a feature in object-oriented programming (OOP) that allows a child class to redefine a method that is already defined in its parent class. This means that the child class can provide a different implementation of the method."
   ]
  },
  {
   "cell_type": "code",
   "execution_count": 6,
   "id": "0fad204d-5346-4776-bce5-5873bac4930a",
   "metadata": {},
   "outputs": [
    {
     "name": "stdout",
     "output_type": "stream",
     "text": [
      "Woof!\n",
      "Meow!\n"
     ]
    }
   ],
   "source": [
    "class Animal:\n",
    "\n",
    "  def make_sound(self):\n",
    "    print(\"I am an animal!\")\n",
    "\n",
    "class Dog(Animal):\n",
    "\n",
    "  def make_sound(self):\n",
    "    print(\"Woof!\")\n",
    "\n",
    "class Cat(Animal):\n",
    "\n",
    "  def make_sound(self):\n",
    "    print(\"Meow!\")\n",
    "\n",
    "dog = Dog()\n",
    "dog.make_sound()  # Woof!\n",
    "\n",
    "cat = Cat()\n",
    "cat.make_sound()  # Meow!\n"
   ]
  }
 ],
 "metadata": {
  "kernelspec": {
   "display_name": "Python 3 (ipykernel)",
   "language": "python",
   "name": "python3"
  },
  "language_info": {
   "codemirror_mode": {
    "name": "ipython",
    "version": 3
   },
   "file_extension": ".py",
   "mimetype": "text/x-python",
   "name": "python",
   "nbconvert_exporter": "python",
   "pygments_lexer": "ipython3",
   "version": "3.10.6"
  }
 },
 "nbformat": 4,
 "nbformat_minor": 5
}
