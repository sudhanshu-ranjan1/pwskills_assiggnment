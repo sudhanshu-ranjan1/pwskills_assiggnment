{
 "cells": [
  {
   "cell_type": "markdown",
   "id": "806da579-76b7-42ca-abb8-25a541d1e4ab",
   "metadata": {},
   "source": [
    "## Q1. What is Statistics?"
   ]
  },
  {
   "cell_type": "markdown",
   "id": "7be054ff-f126-40ee-b2b8-7b676aad0b45",
   "metadata": {},
   "source": [
    "Statistics is the science of collecting,organizing and  analyzing the data. It involves the systematic \n",
    "gathering of quantitative information and the application of mathematical and statistical methods to draw \n",
    "meaningful insights and make informed decisions. \n",
    "\n",
    "It consists of two  types Descriptive and infrential statistics."
   ]
  },
  {
   "cell_type": "markdown",
   "id": "d2960902-812f-479f-936e-14ab4b552122",
   "metadata": {},
   "source": [
    "### Q2. Define the different types of statistics and give an example of when each type might be used."
   ]
  },
  {
   "cell_type": "markdown",
   "id": "40d9021f-1f24-4ee5-ac5b-550870775671",
   "metadata": {},
   "source": [
    "\n",
    "There are The two main types of statistics: descriptive and inferential.\n",
    "\n",
    "Descriptive statistics are used to summarize and describe data. They can be used to answer questions such as: Examples are Mean,Median,Mode\n",
    "What is the average height of students in my class?\n",
    "What is the most popular color of car in my city?\n",
    "What is the distribution of income in my country?\n",
    "Descriptive statistics can be presented in a variety of ways, including tables, charts, and graphs.\n",
    "\n",
    "Inferential statistics are used to make inferences about a population based on data from a sample. Examples are Hypothesis Tsting,Confidence Intervals\n",
    "Regression Analysis.\n",
    "\n",
    "They can be used to answer questions such as:\n",
    "Do students who take a particular math course score higher on the SAT than students who do not take the course?\n",
    "Is there a relationship between the amount of time people spend watching TV and their risk of obesity?\n",
    "Is there a difference in the average income of men and women in my country?\n",
    "Inferential statistics can be used to test hypotheses and make predictions.\n",
    "\n",
    "Here are some examples of when each type of statistics might be used:\n",
    "\n",
    "A teacher might use descriptive statistics to summarize the test scores of her students. She could then use inferential statistics to see if there is a difference in the scores of students who took different preparation courses.\n",
    "A marketing company might use descriptive statistics to see what types of products are most popular among its customers. They could then use inferential statistics to see if there is a relationship between customer demographics and product preferences.\n",
    "A government agency might use descriptive statistics to track the unemployment rate. They could then use inferential statistics to see if there is a relationship between the unemployment rate and economic conditions.\n",
    "Descriptive and inferential statistics are both important tools for data analysis. They can be used to answer a wide variety of questions about data."
   ]
  },
  {
   "cell_type": "markdown",
   "id": "71a03cc8-0cc2-47f5-be1c-0713c60591ea",
   "metadata": {},
   "source": [
    "### Q3.What are the different types of data and how do they differ from each other? Provide an example of\n",
    "### each type of data."
   ]
  },
  {
   "cell_type": "markdown",
   "id": "0dbe6468-4417-4770-88c6-d7c5dae7eec9",
   "metadata": {},
   "source": [
    "These data are parts of Quantitative and Qualitative data.\n",
    "There are four main types of data in statistics: nominal, ordinal, discrete, and continuous.\n",
    "\n",
    "Nominal data is used to classify things into categories. It has no inherent order or ranking. Examples of nominal data include:\n",
    "\n",
    "Gender (male, female)\n",
    "Eye color (blue, green, brown)\n",
    "Blood type (A, B, AB, O)\n",
    "Ordinal data has a natural order, but the intervals between values are not equal. Examples of ordinal data include:\n",
    "\n",
    "Rank in a race (1st, 2nd, 3rd, etc.)\n",
    "Letter grades (A, B, C, D, F)\n",
    "Customer satisfaction (very satisfied, satisfied, neutral, dissatisfied, very dissatisfied)\n",
    "Discrete data is data that can only take on certain values, such as whole numbers. Examples of discrete data include:\n",
    "\n",
    "Number of students in a class\n",
    "Number of cars sold in a month\n",
    "Number of times a coin lands on heads in 10 flips\n",
    "Continuous data is data that can take on any value within a given range. Examples of continuous data include:\n",
    "\n",
    "Height\n",
    "Weight\n",
    "Temperature\n",
    "Time\n",
    "\n",
    "Nominal data is often used to create categories or groups. \n",
    "Ordinal data is often used to rank things or to measure satisfaction. \n",
    "Discrete data is often used to count things or to measure the frequency of events. \n",
    "Continuous data is often used to measure variables or to calculate averages."
   ]
  },
  {
   "cell_type": "markdown",
   "id": "31f6c651-bd47-4bfd-9d76-d22b0227b24b",
   "metadata": {},
   "source": [
    "### Q4. Categorise the following datasets with respect to quantitative and qualitative data types:\n",
    "#### (i) Grading in exam: A+, A, B+, B, C+, C, D, E\n",
    "#### (ii) Colour of mangoes: yellow, green, orange, red\n",
    "#### (iii) Height data of a class: [178.9, 179, 179.5, 176, 177.2, 178.3, 175.8,...]\n",
    "#### (iv) Number of mangoes exported by a farm: [500, 600, 478, 672, ...]"
   ]
  },
  {
   "cell_type": "code",
   "execution_count": null,
   "id": "ce32d1ed-90cc-4b25-9f38-ecf828520ed5",
   "metadata": {},
   "outputs": [],
   "source": [
    "(i) Grading in exam: A+, A, B+, B, C+, C, D, E:- Qualitative data ->> Ordinal data\n",
    "(ii) Colour of mangoes: yellow, green, orange, red:- Qualitative data ->> Nominal data\n",
    "(iii) Height data of a class: [178.9, 179, 179.5, 176, 177.2, 178.3, 175.8,...]:- Quantitaive data ->> Continous data\n",
    "(iv) Number of mangoes exported by a farm: [500, 600, 478, 672, ...]:- Quantitative data ->> Discrete data"
   ]
  },
  {
   "cell_type": "markdown",
   "id": "2f53c7cb-95b0-4851-8a22-0044c2b5dcbf",
   "metadata": {},
   "source": [
    "### Q5. Explain the concept of levels of measurement and give an example of a variable for each level."
   ]
  },
  {
   "cell_type": "markdown",
   "id": "5b4c86ed-f40d-48c5-843f-0761b3d34611",
   "metadata": {},
   "source": [
    "The four levels of measurement are:\n",
    "\n",
    "Nominal: The nominal level of measurement is the weakest level of measurement. It is used to categorize data into mutually exclusive groups. The only thing that can be said about the values in a nominal scale is that they are different from each other. For example, a variable for eye color would be nominal because the values (blue, green, brown, etc.) are simply different from each other.\n",
    "\n",
    "\n",
    "Ordinal: The ordinal level of measurement is stronger than the nominal level of measurement. It is used to rank data in order, but it does not indicate the size of the differences between the ranks. For example, a variable for academic ranking (freshman, sophomore, junior, senior) would be ordinal because the values can be ranked in order (freshman < sophomore < junior < senior), but it does not indicate how much difference there is between each rank (for example, is the difference between a freshman and a sophomore the same as the difference between a junior and a senior?).\n",
    "\n",
    "\n",
    "Interval: The interval level of measurement is stronger than the ordinal level of measurement. It is used to rank data in order and to indicate the size of the differences between the ranks. However, it does not have a true zero point. For example, a variable for temperature (measured in degrees Fahrenheit or Celsius) would be interval because the values can be ranked in order (0 degrees < 10 degrees < 20 degrees, etc.), and the difference between 10 degrees and 20 degrees is the same as the difference between 20 degrees and 30 degrees. However, there is no true zero point for temperature (there is no such thing as \"absolute zero\" temperature).\n",
    "\n",
    "\n",
    "Ratio: The ratio level of measurement is the strongest level of measurement. It is used to rank data in order, to indicate the size of the differences between the ranks, and to have a true zero point. For example, a variable for weight (measured in pounds or kilograms) would be ratio because the values can be ranked in order (10 pounds < 20 pounds < 30 pounds, etc.), the difference between 10 pounds and 20 pounds is the same as the difference between 20 pounds and 30 pounds, and there is a true zero point (zero pounds means that there is no weight)."
   ]
  },
  {
   "cell_type": "markdown",
   "id": "0229add6-ba3f-4c32-a4bc-dde0fe11604a",
   "metadata": {},
   "source": [
    "### Q6. Why is it important to understand the level of measurement when analyzing data? Provide an\n",
    "### example to illustrate your answer."
   ]
  },
  {
   "cell_type": "markdown",
   "id": "d038d229-529d-401a-9be7-a48beafe9c64",
   "metadata": {},
   "source": [
    "Ans:- It is important to understand the level of measurement when analyzing data because the level of measurement determines the type of statistical analysis that can be used on the data. For example, nominal data can only be analyzed using descriptive statistics, such as frequency tables and bar charts. Ordinal data can be analyzed using descriptive statistics and inferential statistics, such as t-tests and chi-square tests. Interval and ratio data can be analyzed using all types of statistical analysis, including descriptive statistics, inferential statistics, and multivariate statistics.\n",
    "\n",
    "\n",
    "Here is an example to illustrate this point. Suppose you are interested in the relationship between gender and political party affiliation. You collect data from a sample of 100 people and find that 50 are men and 50 are women. You also find that 30 of the men are Democrats, 20 are Republicans, and 0 are Independents. Similarly, you find that 20 of the women are Democrats, 30 are Republicans, and 0 are Independents.\n",
    "\n",
    "To analyze this data, you could use a chi-square test. However, you would need to make sure that the level of measurement for the variable \"gender\" is nominal. This is because gender is a categorical variable, and there is no natural order to the categories (i.e., men are not \"greater than\" women). If you were to use a t-test or an ANOVA, your results would be invalid because these tests assume that the variables are interval or ratio level."
   ]
  },
  {
   "cell_type": "markdown",
   "id": "285d0bf9-4973-47c6-9a24-88a9cd55aa06",
   "metadata": {},
   "source": [
    "### Q7. How nominal data type is different from ordinal data type."
   ]
  },
  {
   "cell_type": "markdown",
   "id": "3541b831-c2be-4dda-9d2e-63fb6cdb282e",
   "metadata": {},
   "source": [
    "Ans:- Nominal and ordinal data are both categorical data, meaning that they are not measured on a continuous scale. However, there is a key difference between the two types of data: nominal data has no inherent order, while ordinal data does.\n",
    "\n",
    "Nominal data is used to classify data into mutually exclusive categories. For example, the color of a car can be categorized as red, blue, green, or black. There is no inherent order to these categories; red is not \"greater\" than blue, or green \"less than\" black.\n",
    "\n",
    "Ordinal data also has categories, but the categories have a natural order. For example, a survey question that asks respondents to rate their satisfaction with a product on a scale of 1 to 5 has ordinal data. The categories (1, 2, 3, 4, 5) are ordered from least satisfied to most satisfied. However, the difference between each category is not necessarily equal. For example, the difference between a rating of 1 and a rating of 2 may not be the same as the difference between a rating of 4 and a rating of 5."
   ]
  },
  {
   "cell_type": "markdown",
   "id": "70575f97-3b1e-46cc-87c0-73eaee2c7c0e",
   "metadata": {},
   "source": [
    "### Q8. Which type of plot can be used to display data in terms of range?"
   ]
  },
  {
   "cell_type": "markdown",
   "id": "c5390d2e-b7d7-414a-9d68-659bf6ecdadb",
   "metadata": {},
   "source": [
    "Ans:- A histogram is a type of plot that can be used to display data in terms of range. A histogram is a bar graph that shows the frequency distribution of a continuous variable. The variable is divided into a number of ranges, and the height of each bar represents the number of data points that fall within that range.\n",
    "\n",
    "Histograms are a useful way to visualize the distribution of data and to identify any unusual patterns or trends. For example, a histogram of test scores might show that the majority of students scored in the middle range, with a few students scoring very high and a few students scoring very low. This information could be used to improve the teaching methods or to identify students who need additional help."
   ]
  },
  {
   "cell_type": "markdown",
   "id": "82cf591e-522f-4c70-a1f2-bd003cf4b207",
   "metadata": {},
   "source": [
    "### Q9. Describe the difference between descriptive and inferential statistics. Give an example of each\n",
    "### type of statistics and explain how they are used."
   ]
  },
  {
   "cell_type": "markdown",
   "id": "ee248bbe-0d6e-40f8-b715-1dc96c16af0b",
   "metadata": {},
   "source": [
    "Ans:- \n",
    "Descriptive statistics are used to summarize data and describe its main features. Inferential statistics are used to draw conclusions about a population based on data from a sample.\n",
    "\n",
    "Here are some examples of descriptive statistics:\n",
    "\n",
    "Mean: The mean is the average of a set of data. It is calculated by adding up all the values in the data set and dividing by the number of values.\n",
    "\n",
    "Median: The median is the middle value in a data set when the data is sorted from least to greatest.\n",
    "\n",
    "Mode: The mode is the most common value in a data set.\n",
    "\n",
    "Here are some examples of inferential statistics:\n",
    "\n",
    "Hypothesis testing: Hypothesis testing is a statistical procedure that is used to test whether a hypothesis is supported by the data.\n",
    "\n",
    "Confidence intervals: Confidence intervals are used to estimate the range of values that are likely to contain the true value of a population parameter.\n",
    "\n",
    "Regression analysis: Regression analysis is a statistical procedure that is used to model the relationship between two or more variables.\n",
    "Descriptive statistics are used to describe the data that is collected. Inferential statistics are used to make inferences about the population from which the data was collected"
   ]
  },
  {
   "cell_type": "markdown",
   "id": "a1a96c3d-5ac1-4c34-b1ae-6f8b751ace10",
   "metadata": {},
   "source": [
    "### Q10.What are some common measures of central tendency and variability used in statistics? Explain\n",
    "### how each measure can be used to describe a dataset."
   ]
  },
  {
   "cell_type": "markdown",
   "id": "f7b4faa8-cb73-4469-bd3c-c084e9321c88",
   "metadata": {},
   "source": [
    "Ans:- Measures of central tendency\n",
    "\n",
    "Measures of central tendency are used to describe the center of a dataset. The three most common measures of central tendency are:\n",
    "\n",
    "Mean: The mean is the average of a set of data. It is calculated by adding up all the values in the data set and dividing by the number of values.\n",
    "\n",
    "Median: The median is the middle value in a data set when the data is sorted from least to greatest.\n",
    "\n",
    "Mode: The mode is the most common value in a data set.\n",
    "\n",
    "Measures of variability\n",
    "\n",
    "Measures of variability are used to describe how spread out a dataset is. The three most common measures of variability are:\n",
    "\n",
    "Range: The range is the difference between the largest and smallest values in a data set.\n",
    "\n",
    "Variance: The variance is a measure of how spread out the data is around the mean. It is calculated by taking the square of the difference between each data point and the mean, and then dividing by the number of data points minus 1.\n",
    "\n",
    "Standard deviation: The standard deviation is the square root of the variance. It is a more easily interpretable measure of variability than the variance."
   ]
  }
 ],
 "metadata": {
  "kernelspec": {
   "display_name": "Python 3 (ipykernel)",
   "language": "python",
   "name": "python3"
  },
  "language_info": {
   "codemirror_mode": {
    "name": "ipython",
    "version": 3
   },
   "file_extension": ".py",
   "mimetype": "text/x-python",
   "name": "python",
   "nbconvert_exporter": "python",
   "pygments_lexer": "ipython3",
   "version": "3.10.6"
  }
 },
 "nbformat": 4,
 "nbformat_minor": 5
}
