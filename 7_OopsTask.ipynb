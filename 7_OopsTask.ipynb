{
 "cells": [
  {
   "cell_type": "markdown",
   "id": "002c75ac-f416-4079-9743-5dcb4646f1d6",
   "metadata": {},
   "source": [
    "### Q1. Which function is used to open a file? What are the different modes of opening a file? Explain each mode of file opening."
   ]
  },
  {
   "cell_type": "markdown",
   "id": "76ebc6e5-69d7-405e-9c0f-f969a9d8e9fe",
   "metadata": {},
   "source": [
    "\n",
    "The open() function is used to open a file in Python. The open() function takes two arguments: the file name and the mode. The mode determines how the file will be opened.\n",
    "\n",
    "The different modes of opening a file are:\n",
    "\n",
    "r - Opens the file for reading. This is the default mode.\n",
    "\n",
    "w - Opens the file for writing. If the file does not exist, it will be created. If the file does exist, its contents will be overwritten.\n",
    "\n",
    "a - Opens the file for appending. If the file does not exist, it will be created. If the file does exist, new data will be appended to the end of the file.\n",
    "\n",
    "r+ - Opens the file for reading and writing.\n",
    "\n",
    "w+ - Opens the file for writing and reading. If the file does not exist, it will be created. If the file does exist, its contents will be overwritten.\n",
    "\n",
    "a+ - Opens the file for appending and reading. If the file does not exist, it will be created. If the file does exist, new data will be appended to the end of the file."
   ]
  },
  {
   "cell_type": "markdown",
   "id": "f593380f-7ae4-44c3-b470-82f3d203ab87",
   "metadata": {},
   "source": [
    "### Q2. Why close() function is used? Why is it important to close a file?"
   ]
  },
  {
   "cell_type": "markdown",
   "id": "55007e32-7429-4e00-add5-4921b3cb796b",
   "metadata": {},
   "source": [
    "\n",
    "The close() function is used to close a file in Python. When you open a file, you are essentially reserving a resource on your computer's operating system. This resource is used to read from or write to the file. If you do not close the file, this resource will be tied up and unavailable for other programs to use.\n",
    "\n",
    "\n",
    "It is important to close a file for two reasons:\n",
    "\n",
    "1)To free up resources: When you close a file, the operating system will release the resource that was being used to read from or write to the file. This will free up the resource so that other programs can use it.\n",
    "\n",
    "2)To prevent data loss: If you do not close a file properly, there is a risk that data could be lost. This is because the operating system may not have had a chance to write the data to the file before the program terminated."
   ]
  },
  {
   "cell_type": "markdown",
   "id": "473d7e0e-6ae3-446a-8239-4c3acf54f0dd",
   "metadata": {},
   "source": [
    "### Q3. Write a python program to create a text file. Write ‘I want to become a Data Scientist’ in that file. Then close the file. Open this file and read the content of the file.\n"
   ]
  },
  {
   "cell_type": "code",
   "execution_count": 3,
   "id": "362c87bb-4e06-48f1-b1e0-b1fbd3fa091b",
   "metadata": {},
   "outputs": [
    {
     "name": "stdout",
     "output_type": "stream",
     "text": [
      "I want to become a Data Scientist\n"
     ]
    }
   ],
   "source": [
    "def create_file():\n",
    "  \"\"\"Creates a text file and writes 'I want to become a Data Scientist' in it.\"\"\"\n",
    "\n",
    "  file = open(\"data_scientist_goal.txt\", \"w\")\n",
    "  file.write(\"I want to become a Data Scientist\")\n",
    "  file.close()\n",
    "\n",
    "def read_file():\n",
    "  \"\"\"Opens the text file and reads its content.\"\"\"\n",
    "\n",
    "  file = open(\"data_scientist_goal.txt\", \"r\")\n",
    "  content = file.read()\n",
    "  print(content)\n",
    "\n",
    "if __name__ == \"__main__\":\n",
    "  create_file()\n",
    "  read_file()\n"
   ]
  },
  {
   "cell_type": "markdown",
   "id": "13fa3d48-4d44-4ee1-abc9-003cf9128274",
   "metadata": {},
   "source": [
    "### Q4. Explain the following with python code: read(), readline() and readlines()."
   ]
  },
  {
   "cell_type": "markdown",
   "id": "7bdb423c-ec2c-4083-b2dd-681e55c63d9e",
   "metadata": {},
   "source": [
    "The read(), readline(), and readlines() methods are used to read from a file in Python.\n",
    "\n",
    "The read() method reads the entire contents of a file and returns it as a string.\n",
    "\n",
    "The readline() method reads the next line from a file and returns it as a string.\n",
    "\n",
    "The readlines() method reads all of the lines from a file and returns them as a list of strings."
   ]
  },
  {
   "cell_type": "code",
   "execution_count": 4,
   "id": "91aff92e-63ee-4756-aee9-5b6c1d808232",
   "metadata": {},
   "outputs": [
    {
     "name": "stdout",
     "output_type": "stream",
     "text": [
      "I want to become a Data Scientist\n"
     ]
    }
   ],
   "source": [
    "def read_file():\n",
    "  \"\"\"Opens a text file and reads its contents.\"\"\"\n",
    "\n",
    "  file = open(\"data_scientist_goal.txt\", \"r\")\n",
    "  content = file.read()\n",
    "  print(content)\n",
    "\n",
    "if __name__ == \"__main__\":\n",
    "  read_file()\n"
   ]
  },
  {
   "cell_type": "code",
   "execution_count": null,
   "id": "520eb009-51b9-4162-acac-3ff60599653c",
   "metadata": {},
   "outputs": [
    {
     "name": "stdout",
     "output_type": "stream",
     "text": [
      "I want to become a Data Scientist\n"
     ]
    }
   ],
   "source": [
    "def read_file():\n",
    "  \"\"\"Opens a text file and reads its contents line by line.\"\"\"\n",
    "\n",
    "  file = open(\"data_scientist_goal.txt\", \"r\")\n",
    "  line = file.readline()\n",
    "  while line:\n",
    "    print(line)\n",
    "    line = file.readline()\n",
    "\n",
    "if __name__ == \"__main__\":\n",
    "  read_file()\n"
   ]
  },
  {
   "cell_type": "code",
   "execution_count": 6,
   "id": "b30f87af-20db-4086-af56-816d36aaaca6",
   "metadata": {},
   "outputs": [
    {
     "name": "stdout",
     "output_type": "stream",
     "text": [
      "['I want to become a Data Scientist']\n"
     ]
    }
   ],
   "source": [
    "def read_file():\n",
    "  \"\"\"Opens a text file and reads its contents into a list.\"\"\"\n",
    "\n",
    "  file = open(\"data_scientist_goal.txt\", \"r\")\n",
    "  lines = file.readlines()\n",
    "  print(lines)\n",
    "\n",
    "if __name__ == \"__main__\":\n",
    "  read_file()\n"
   ]
  },
  {
   "cell_type": "markdown",
   "id": "89acbc20-395c-4975-ac06-fb7ef1265fdd",
   "metadata": {},
   "source": [
    "### Q5. Explain why with statement is used with open(). What is the advantage of using with statement and open() together?"
   ]
  },
  {
   "cell_type": "markdown",
   "id": "e8fd396d-a4b8-4582-84d1-b275d637e92e",
   "metadata": {},
   "source": [
    "\n",
    "The with statement is used with the open() function to ensure that the file is closed properly, even if an exception is raised. This is because the with statement will automatically close the file when the indented block of code is finished executing."
   ]
  },
  {
   "cell_type": "markdown",
   "id": "0d2337a2-bb3d-4d42-8bd2-b4cb745b7cb7",
   "metadata": {},
   "source": [
    "\n",
    "The with statement and open() function together have several advantages, including:\n",
    "\n",
    "Ensuring that the file is closed properly: The with statement will automatically close the file when the indented block of code is finished executing, even if an exception is raised. This can help to prevent data loss and errors.\n",
    "\n",
    "Making the code more readable and concise: The with statement makes the code more readable and concise by eliminating the need to explicitly close the file.\n",
    "\n",
    "Preventing resource leaks: Resource leaks can occur when a file is not closed properly. The with statement can help to prevent resource leaks by automatically closing the file when the indented block of code is finished executing.\n",
    "\n",
    "Improving performance: The with statement can improve performance by avoiding the overhead of explicitly closing the file"
   ]
  },
  {
   "cell_type": "markdown",
   "id": "82835b9a-321d-4d5a-8c8b-7f05151608f7",
   "metadata": {},
   "source": [
    "### Q6. Explain the write() and writelines() functions. Give a suitable example."
   ]
  },
  {
   "cell_type": "markdown",
   "id": "404c34ad-fc03-454b-ba56-644eccafb1f6",
   "metadata": {},
   "source": [
    "\n",
    "The write() and writelines() functions are used to write data to a file in Python. The write() function writes a single string to a file, while the writelines() function writes a list of strings to a file.\n",
    "\n",
    "The write() function takes a string as its argument and writes the string to the file. The writelines() function takes a list of strings as its argument and writes each string in the list to the file."
   ]
  },
  {
   "cell_type": "code",
   "execution_count": 8,
   "id": "26d60b67-f8d9-4b73-b437-3916fc060d7b",
   "metadata": {},
   "outputs": [],
   "source": [
    "def write_string_to_file():\n",
    "  \"\"\"Writes a string to a file.\"\"\"\n",
    "\n",
    "  with open(\"data_scientist_goal.txt\", \"w\") as file:\n",
    "    file.write(\"I want to become a Data Scientist\")\n",
    "\n",
    "if __name__ == \"__main__\":\n",
    "  write_string_to_file()\n"
   ]
  },
  {
   "cell_type": "code",
   "execution_count": 9,
   "id": "caa03343-6b6e-4d79-908c-77845379469d",
   "metadata": {},
   "outputs": [],
   "source": [
    "def write_list_of_strings_to_file():\n",
    "  \"\"\"Writes a list of strings to a file.\"\"\"\n",
    "\n",
    "  strings = [\"I want to become a Data Scientist\", \"I want to make a positive impact on the world\"]\n",
    "\n",
    "  with open(\"data_scientist_goal.txt\", \"w\") as file:\n",
    "    file.writelines(strings)\n",
    "\n",
    "if __name__ == \"__main__\":\n",
    "  write_list_of_strings_to_file()\n"
   ]
  }
 ],
 "metadata": {
  "kernelspec": {
   "display_name": "Python 3 (ipykernel)",
   "language": "python",
   "name": "python3"
  },
  "language_info": {
   "codemirror_mode": {
    "name": "ipython",
    "version": 3
   },
   "file_extension": ".py",
   "mimetype": "text/x-python",
   "name": "python",
   "nbconvert_exporter": "python",
   "pygments_lexer": "ipython3",
   "version": "3.10.6"
  }
 },
 "nbformat": 4,
 "nbformat_minor": 5
}
