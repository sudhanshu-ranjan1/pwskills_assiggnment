{
 "cells": [
  {
   "cell_type": "markdown",
   "id": "6311ebe9-b6d9-4376-8f6a-791942798d06",
   "metadata": {},
   "source": [
    "### Q1. What is MongoDB? Explain non-relational databases in short. In which scenarios it is preferred to use MongoDB over SQL databases?\n"
   ]
  },
  {
   "cell_type": "markdown",
   "id": "7b8764f5-a331-441a-a377-aa5f31a1a388",
   "metadata": {},
   "source": [
    "MongoDB is a document-oriented NoSQL database, which means that data is stored in JSON-like documents. Non-relational databases, also known as NoSQL databases, are a type of database that does not use the traditional relational model. Relational databases store data in tables, which are made up of rows and columns. NoSQL databases, on the other hand, store data in a variety of ways, such as documents, key-value pairs, and graphs.\n",
    "\n",
    "MongoDB is a popular NoSQL database because it is flexible and scalable. MongoDB documents can be nested, which makes it easy to store complex data. MongoDB is also horizontally scalable, which means that it can be easily scaled up by adding more servers.\n",
    "\n",
    "There are a number of scenarios where it is preferred to use MongoDB over SQL databases. These include:\n",
    "\n",
    "Storing complex data: MongoDB documents can be nested, which makes it easy to store complex data. For example, a MongoDB document could store a user's profile, including their name, email address, and social media accounts. \n",
    "\n",
    "Scaling: MongoDB is horizontally scalable, which means that it can be easily scaled up by adding more servers. This makes it a good choice for applications that need to handle a lot of traffic.\n",
    "\n",
    "Real-time applications: MongoDB is well-suited for real-time applications because it can be used to store and query data in real time. This makes it a good choice for applications like chat applications and social media platforms.\n",
    "However, there are also some scenarios where it is not a good idea to use MongoDB. These include:\n",
    "\n",
    "Storing structured data: MongoDB documents are not as structured as tables in a relational database. This can make it difficult to query data in MongoDB if the data is not well-organized.\n",
    "\n",
    "Requiring ACID compliance: MongoDB does not guarantee ACID compliance, which means that there is a chance that data could be lost or corrupted. This makes it a bad choice for applications that require high levels of data integrity."
   ]
  },
  {
   "cell_type": "markdown",
   "id": "dbce6898-aaeb-47a5-8786-e91d3d71c975",
   "metadata": {},
   "source": [
    "### Q2. State and Explain the features of MongoDB."
   ]
  },
  {
   "cell_type": "markdown",
   "id": "fe60441f-1679-4a02-b85e-a007f8c002d5",
   "metadata": {},
   "source": [
    "Document-oriented: MongoDB stores data in JSON-like documents. This makes it easy to store complex data, such as nested documents and arrays.\n",
    "\n",
    "Schema-free: MongoDB does not require a schema, which means that you can add new fields to documents without having to change the schema. This makes it easy to evolve your data over time.\n",
    "\n",
    "Horizontally scalable: MongoDB is horizontally scalable, which means that you can add more servers to your cluster to increase capacity. This makes it a good choice for applications that need to handle a lot of traffic.\n",
    "\n",
    "Real-time: MongoDB can be used to store and query data in real time. This makes it a good choice for applications like chat applications and social media platforms.\n",
    "\n",
    "Flexible querying: MongoDB supports a variety of query types, including text search, aggregation, and geospatial queries. This makes it easy to find the data you need.\n",
    "\n",
    "Replication: MongoDB supports replication, which means that your data is automatically copied to multiple servers. This makes it more reliable and available.\n",
    "\n",
    "Security: MongoDB supports a variety of security features, such as authentication, authorization, and encryption. This helps to protect your data from unauthorized access."
   ]
  },
  {
   "cell_type": "markdown",
   "id": "6704071c-56f4-41bb-b7e6-122a6b7701a7",
   "metadata": {},
   "source": [
    "### Q3. Write a code to connect MongoDB to Python. Also, create a database and a collection in MongoDB."
   ]
  },
  {
   "cell_type": "code",
   "execution_count": null,
   "id": "7bd78ebf-beac-4515-b02f-49e70cc0eedf",
   "metadata": {},
   "outputs": [
    {
     "ename": "ModuleNotFoundError",
     "evalue": "No module named 'pymongo'",
     "output_type": "error",
     "traceback": [
      "\u001b[0;31m---------------------------------------------------------------------------\u001b[0m",
      "\u001b[0;31mModuleNotFoundError\u001b[0m                       Traceback (most recent call last)",
      "Cell \u001b[0;32mIn [4], line 1\u001b[0m\n\u001b[0;32m----> 1\u001b[0m \u001b[38;5;28;01mimport\u001b[39;00m \u001b[38;5;21;01mpymongo\u001b[39;00m\n\u001b[1;32m      3\u001b[0m \u001b[38;5;66;03m# Connect to MongoDB\u001b[39;00m\n\u001b[1;32m      4\u001b[0m client \u001b[38;5;241m=\u001b[39m pymongo\u001b[38;5;241m.\u001b[39mMongoClient(\u001b[38;5;124m\"\u001b[39m\u001b[38;5;124mmongodb://localhost:27017\u001b[39m\u001b[38;5;124m\"\u001b[39m)\n",
      "\u001b[0;31mModuleNotFoundError\u001b[0m: No module named 'pymongo'"
     ]
    }
   ],
   "source": [
    "import pymongo\n",
    "\n",
    "# Connect to MongoDB\n",
    "client = pymongo.MongoClient(\"mongodb://localhost:27017\")\n",
    "\n",
    "# Create a database\n",
    "db = client[\"my_database\"]\n",
    "\n",
    "# Create a collection\n",
    "collection = db[\"my_collection\"]\n",
    "\n",
    "# Insert a document into the collection\n",
    "document = {\"name\": \"Bard\", \"age\": 100}\n",
    "collection.insert_one(document)\n",
    "\n",
    "# Print the documents in the collection\n",
    "for document in collection.find():\n",
    "    print(document)\n"
   ]
  },
  {
   "cell_type": "markdown",
   "id": "4d890ece-2ccd-46ab-8c3c-ef70089672ac",
   "metadata": {},
   "source": [
    "### Q4. Using the database and the collection created in question number 3, write a code to insert one record, and insert many records. Use the find() and find_one() methods to print the inserted record."
   ]
  },
  {
   "cell_type": "code",
   "execution_count": null,
   "id": "aaf8d757-274c-4511-a1b0-d1284546e9fe",
   "metadata": {},
   "outputs": [],
   "source": [
    "import pymongo\n",
    "\n",
    "# Connect to MongoDB\n",
    "client = pymongo.MongoClient(\"mongodb://localhost:27017\")\n",
    "\n",
    "# Create a database\n",
    "db = client[\"my_database\"]\n",
    "\n",
    "# Create a collection\n",
    "collection = db[\"my_collection\"]\n",
    "\n",
    "# Insert one record\n",
    "document = {\"name\": \"Bard\", \"age\": 100}\n",
    "collection.insert_one(document)\n",
    "\n",
    "# Insert many records\n",
    "documents = [\n",
    "    {\"name\": \"Alice\", \"age\": 20},\n",
    "    {\"name\": \"Bob\", \"age\": 30},\n",
    "    {\"name\": \"Carol\", \"age\": 40},\n",
    "]\n",
    "collection.insert_many(documents)\n",
    "\n",
    "# Print the documents in the collection\n",
    "for document in collection.find():\n",
    "    print(document)\n",
    "\n",
    "# Print the first document in the collection\n",
    "document = collection.find_one()\n",
    "print(document)\n"
   ]
  },
  {
   "cell_type": "markdown",
   "id": "64a58c4d-b721-48ac-a1cc-d1b0e23bae0a",
   "metadata": {},
   "source": [
    "### Q5. Explain how you can use the find() method to query the MongoDB database. Write a simple code to demonstrate this."
   ]
  },
  {
   "cell_type": "markdown",
   "id": "836c1517-26cb-4ebb-9293-c102670d4fbc",
   "metadata": {},
   "source": [
    "The find() method is used to query the MongoDB database. It takes a query object as input, which specifies the criteria for the query. The find() method returns a cursor object, which can be used to iterate through the documents that match the query."
   ]
  },
  {
   "cell_type": "code",
   "execution_count": null,
   "id": "1f01c065-0827-4234-8fb6-f97acb035f95",
   "metadata": {},
   "outputs": [],
   "source": [
    "import pymongo\n",
    "\n",
    "# Connect to MongoDB\n",
    "client = pymongo.MongoClient(\"mongodb://localhost:27017\")\n",
    "\n",
    "# Create a database\n",
    "db = client[\"my_database\"]\n",
    "\n",
    "# Create a collection\n",
    "collection = db[\"my_collection\"]\n",
    "\n",
    "# Insert one record\n",
    "document = {\"name\": \"Bard\", \"age\": 100}\n",
    "collection.insert_one(document)\n",
    "\n",
    "# Query the collection\n",
    "cursor = collection.find()\n",
    "\n",
    "# Iterate through the cursor\n",
    "for document in cursor:\n",
    "    print(document)\n"
   ]
  },
  {
   "cell_type": "markdown",
   "id": "0de403e7-eacb-43df-901a-3463224ba847",
   "metadata": {},
   "source": [
    "### Q6. Explain the sort() method. Give an example to demonstrate sorting in MongoDB."
   ]
  },
  {
   "cell_type": "markdown",
   "id": "a6df799b-d012-427d-a0b2-37bc32f83acd",
   "metadata": {},
   "source": [
    "The sort() method is used to sort the results of a query in MongoDB. It takes a sort specification as input, which specifies the fields to sort by and the order of the sort. The sort() method returns a cursor object, which can be used to iterate through the sorted results"
   ]
  },
  {
   "cell_type": "code",
   "execution_count": null,
   "id": "f3a4fd26-af88-4034-a660-a2ee7c425b5e",
   "metadata": {},
   "outputs": [],
   "source": [
    "import pymongo\n",
    "\n",
    "# Connect to MongoDB\n",
    "client = pymongo.MongoClient(\"mongodb://localhost:27017\")\n",
    "\n",
    "# Create a database\n",
    "db = client[\"my_database\"]\n",
    "\n",
    "# Create a collection\n",
    "collection = db[\"my_collection\"]\n",
    "\n",
    "# Insert one record\n",
    "document = {\"name\": \"Bard\", \"age\": 100}\n",
    "collection.insert_one(document)\n",
    "\n",
    "# Query the collection\n",
    "cursor = collection.find().sort(\"name\")\n",
    "\n",
    "# Iterate through the cursor\n",
    "for document in cursor:\n",
    "    print(document)\n"
   ]
  },
  {
   "cell_type": "markdown",
   "id": "08089b16-5c76-4ea7-a9e7-ca329226080e",
   "metadata": {},
   "source": [
    "### Q7. Explain why delete_one(), delete_many(), and drop() is used."
   ]
  },
  {
   "cell_type": "markdown",
   "id": "11213097-f8b5-40f3-94a4-554101bb42be",
   "metadata": {},
   "source": [
    "The delete_one(), delete_many(), and drop() methods are used to delete documents from a MongoDB collection. The delete_one() method deletes a single document from the collection, while the delete_many() method deletes multiple documents from the collection. The drop() method deletes the entire collection."
   ]
  }
 ],
 "metadata": {
  "kernelspec": {
   "display_name": "Python 3 (ipykernel)",
   "language": "python",
   "name": "python3"
  },
  "language_info": {
   "codemirror_mode": {
    "name": "ipython",
    "version": 3
   },
   "file_extension": ".py",
   "mimetype": "text/x-python",
   "name": "python",
   "nbconvert_exporter": "python",
   "pygments_lexer": "ipython3",
   "version": "3.10.6"
  }
 },
 "nbformat": 4,
 "nbformat_minor": 5
}
