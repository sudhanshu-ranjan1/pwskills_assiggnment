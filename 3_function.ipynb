{
 "cells": [
  {
   "cell_type": "markdown",
   "id": "2895ae67-4a0b-4cd9-9b74-f7b80e8e73ea",
   "metadata": {},
   "source": [
    "### Q1. Create a python program to sort the given list of tuples based on integer value using a lambda function."
   ]
  },
  {
   "cell_type": "code",
   "execution_count": 1,
   "id": "ffd6aa3c-8385-48bd-8f1a-a6ffdf2de093",
   "metadata": {},
   "outputs": [
    {
     "name": "stdout",
     "output_type": "stream",
     "text": [
      "[(1, 'apple'), (2, 'banana'), (3, 'cherry')]\n"
     ]
    }
   ],
   "source": [
    "def sort_tuples(tuples):\n",
    "    # Create a lambda function to extract the integer value from each tuple.\n",
    "    key = lambda x: x[0]\n",
    "\n",
    "    # Sort the tuples based on the integer value.\n",
    "    sorted_tuples = sorted(tuples, key=key)\n",
    "\n",
    "    return sorted_tuples\n",
    "\n",
    "\n",
    "if __name__ == \"__main__\":\n",
    "    tuples = [(1, \"apple\"), (2, \"banana\"), (3, \"cherry\")]\n",
    "    sorted_tuples = sort_tuples(tuples)\n",
    "    print(sorted_tuples)\n"
   ]
  },
  {
   "cell_type": "markdown",
   "id": "5ee82071-d89c-4b00-8e1a-e422ac9cef06",
   "metadata": {},
   "source": [
    "### Q2. Write a Python Program to find the squares of all the numbers in the given list of integers using lambda and map functions.\n",
    "### [1, 2, 3, 4, 5, 6, 7, 8, 9, 10]"
   ]
  },
  {
   "cell_type": "code",
   "execution_count": 3,
   "id": "326e3d78-4a30-4468-99da-89da529f549c",
   "metadata": {},
   "outputs": [
    {
     "data": {
      "text/plain": [
       "[1, 4, 9, 16, 25, 36, 49, 64, 81, 100]"
      ]
     },
     "execution_count": 3,
     "metadata": {},
     "output_type": "execute_result"
    }
   ],
   "source": [
    "l = [1, 2, 3, 4, 5, 6, 7, 8, 9, 10]\n",
    "def sq(x):\n",
    "    return x**2\n",
    "list(map(sq,l))"
   ]
  },
  {
   "cell_type": "markdown",
   "id": "a24f54f1-9eb1-4717-b772-591f81ee59eb",
   "metadata": {},
   "source": [
    "### Q3. Write a python program to convert the given list of integers into a tuple of strings. Use map and lambda functions\n",
    "### Given String: [1, 2, 3, 4, 5, 6, 7, 8, 9, 10]\n",
    "### Expected output: ('1', '2', '3', '4', '5', '6', '7', '8', '9', '10')"
   ]
  },
  {
   "cell_type": "code",
   "execution_count": 8,
   "id": "a5f16925-d7e3-47f3-9a7a-755590270d9a",
   "metadata": {},
   "outputs": [
    {
     "data": {
      "text/plain": [
       "[<function __main__.str.<locals>.<lambda>(x)>,\n",
       " <function __main__.str.<locals>.<lambda>(x)>,\n",
       " <function __main__.str.<locals>.<lambda>(x)>,\n",
       " <function __main__.str.<locals>.<lambda>(x)>,\n",
       " <function __main__.str.<locals>.<lambda>(x)>,\n",
       " <function __main__.str.<locals>.<lambda>(x)>,\n",
       " <function __main__.str.<locals>.<lambda>(x)>,\n",
       " <function __main__.str.<locals>.<lambda>(x)>,\n",
       " <function __main__.str.<locals>.<lambda>(x)>,\n",
       " <function __main__.str.<locals>.<lambda>(x)>]"
      ]
     },
     "execution_count": 9,
     "metadata": {},
     "output_type": "execute_result"
    }
   ],
   "source": [
    "l = [1, 2, 3, 4, 5, 6, 7, 8, 9, 10]\n",
    "\n",
    "tuple(map(str,l))\n"
   ]
  },
  {
   "cell_type": "markdown",
   "id": "69be69ca-38f1-495e-a708-1a48c15a0a02",
   "metadata": {},
   "source": [
    "### Q4. Write a python program using reduce function to compute the product of a list containing numbers from 1 to 25."
   ]
  },
  {
   "cell_type": "code",
   "execution_count": 5,
   "id": "79ac0926-c2fd-41b6-86f6-ecfc4c05c07c",
   "metadata": {},
   "outputs": [
    {
     "name": "stdout",
     "output_type": "stream",
     "text": [
      "The product of the numbers from 1 to 25 is: 15511210043330985984000000\n"
     ]
    }
   ],
   "source": [
    "import functools\n",
    "\n",
    "def product(x, y):\n",
    "  return x * y\n",
    "\n",
    "list_numbers = list(range(1, 26))\n",
    "product_of_numbers = functools.reduce(product, list_numbers)\n",
    "\n",
    "print(\"The product of the numbers from 1 to 25 is:\", product_of_numbers)\n"
   ]
  },
  {
   "cell_type": "markdown",
   "id": "7fc3b60c-50b9-4ce2-a3f7-619e8cd2f85e",
   "metadata": {},
   "source": [
    "### Q5.  Write a python program to filter the numbers in a given list that are divisible by 2 and 3 using the filter function.\n",
    "### [2, 3, 6, 9, 27, 60, 90, 120, 55, 46]"
   ]
  },
  {
   "cell_type": "code",
   "execution_count": 4,
   "id": "4d760b86-483f-4e5f-8ecd-daa002590a01",
   "metadata": {},
   "outputs": [
    {
     "data": {
      "text/plain": [
       "[2, 3, 6, 9, 27, 60, 90, 120, 46]"
      ]
     },
     "execution_count": 4,
     "metadata": {},
     "output_type": "execute_result"
    }
   ],
   "source": [
    "l = [2, 3, 6, 9, 27, 60, 90, 120, 55, 46]\n",
    "\n",
    "list(filter(lambda x : x % 2 == 0 or x % 3 == 0 , l))"
   ]
  },
  {
   "cell_type": "markdown",
   "id": "0d7c5081-f3d8-46cd-804f-5453b6473308",
   "metadata": {},
   "source": [
    "### Q6.  Write a python program to find palindromes in the given list of strings using lambda and filter function.\n",
    "### ['python', 'php', 'aba', 'radar', 'level']"
   ]
  },
  {
   "cell_type": "code",
   "execution_count": 7,
   "id": "45134548-043f-47e7-a6ed-f982de4119f4",
   "metadata": {},
   "outputs": [
    {
     "data": {
      "text/plain": [
       "['php', 'aba', 'radar', 'level']"
      ]
     },
     "execution_count": 7,
     "metadata": {},
     "output_type": "execute_result"
    }
   ],
   "source": [
    "l = ['python', 'php', 'aba', 'radar', 'level']\n",
    "\n",
    "list(filter(lambda x: (x == \"\".join(reversed(x))), l))"
   ]
  }
 ],
 "metadata": {
  "kernelspec": {
   "display_name": "Python 3 (ipykernel)",
   "language": "python",
   "name": "python3"
  },
  "language_info": {
   "codemirror_mode": {
    "name": "ipython",
    "version": 3
   },
   "file_extension": ".py",
   "mimetype": "text/x-python",
   "name": "python",
   "nbconvert_exporter": "python",
   "pygments_lexer": "ipython3",
   "version": "3.10.6"
  }
 },
 "nbformat": 4,
 "nbformat_minor": 5
}
