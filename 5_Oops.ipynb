{
 "cells": [
  {
   "cell_type": "markdown",
   "id": "0ba2a9e7-6cc4-4398-90f9-c708db352629",
   "metadata": {},
   "source": [
    "### Q1. What is Abstraction in OOps? Explain with an example."
   ]
  },
  {
   "cell_type": "markdown",
   "id": "fbe48d02-4bde-4480-8941-4907c92d2e79",
   "metadata": {},
   "source": [
    "Abstraction:-  It is the process of hiding the implementation details of an object or a system from the user. This allows the user to focus on the essential features of the object or system without having to worry about how it works internally.\n",
    "\n",
    "Two types of abstraction in OOPS are:-\n",
    "\n",
    "1)Data abstraction hides the internal representation of data from the user\n",
    "\n",
    "2)Process abstraction hides the implementation of a process from the user"
   ]
  },
  {
   "cell_type": "code",
   "execution_count": 1,
   "id": "e23e1834-47d7-4ba9-a5be-1dd9a93ee70d",
   "metadata": {},
   "outputs": [
    {
     "name": "stdout",
     "output_type": "stream",
     "text": [
      "25\n"
     ]
    }
   ],
   "source": [
    "from abc import ABC, abstractmethod\n",
    "\n",
    "class Shape(ABC):\n",
    "    @abstractmethod\n",
    "    def area(self):\n",
    "        \"\"\"Returns the area of the shape.\"\"\"\n",
    "        pass\n",
    "\n",
    "class Square(Shape):\n",
    "    def __init__(self, side):\n",
    "        self.side = side\n",
    "\n",
    "    def area(self):\n",
    "        \"\"\"Returns the area of the square.\"\"\"\n",
    "        return self.side * self.side\n",
    "\n",
    "square = Square(5)\n",
    "print(square.area())\n"
   ]
  },
  {
   "cell_type": "markdown",
   "id": "c71eb1b0-8f97-4c84-b70d-add2f6e185fc",
   "metadata": {},
   "source": [
    "### Q2. Differentiate between Abstraction and Encapsulation. Explain with an example."
   ]
  },
  {
   "cell_type": "markdown",
   "id": "7bf243f5-1181-4c79-aab2-0443b26613d5",
   "metadata": {},
   "source": [
    "Abstraction is the process of hiding the implementation details of an object or a system from the user. This allows the user to focus on the essential features of the object or system without having to worry about how it works internally.\n",
    "\n",
    "Encapsulation is the process of wrapping data and the methods that work on that data within a single unit. This puts restrictions on accessing variables and methods directly and can prevent the accidental modification of data."
   ]
  },
  {
   "cell_type": "code",
   "execution_count": 2,
   "id": "71d90d3f-3a01-4d35-b4db-05ed615186c6",
   "metadata": {},
   "outputs": [
    {
     "name": "stdout",
     "output_type": "stream",
     "text": [
      "John Doe\n",
      "30\n",
      "Jane Doe\n"
     ]
    }
   ],
   "source": [
    "# Encapsulation\n",
    "class Person:\n",
    "    def __init__(self, name, age):\n",
    "        self._name = name\n",
    "        self._age = age\n",
    "\n",
    "    @property\n",
    "    def name(self):\n",
    "        return self._name\n",
    "\n",
    "    @name.setter\n",
    "    def name(self, new_name):\n",
    "        self._name = new_name\n",
    "\n",
    "    @property\n",
    "    def age(self):\n",
    "        return self._age\n",
    "\n",
    "    @age.setter\n",
    "    def age(self, new_age):\n",
    "        self._age = new_age\n",
    "\n",
    "person = Person(\"John Doe\", 30)\n",
    "print(person.name)\n",
    "print(person.age)\n",
    "\n",
    "person.name = \"Jane Doe\"\n",
    "print(person.name)\n"
   ]
  },
  {
   "cell_type": "markdown",
   "id": "1856c273-82cd-4ada-9b15-bbb6223a377a",
   "metadata": {},
   "source": [
    "### Q3. What is abc module in python? Why is it used?"
   ]
  },
  {
   "cell_type": "markdown",
   "id": "8a64bc9a-e9e9-4e31-bfb5-2f765a066a29",
   "metadata": {},
   "source": [
    "\n",
    "The abc module in Python provides the infrastructure for defining abstract base classes (ABCs). ABCs are classes that cannot be instantiated(process of creating an object from a class), but they can be used to define the interface that must be implemented by subclasses.\n",
    "\n",
    "ABCs are used for a variety of purposes, including:\n",
    "\n",
    "Defining the interface for a group of classes. This can be useful for ensuring that all subclasses of a particular class implement a common set of methods.\n",
    "\n",
    "Providing type checking. ABCs can be used to check whether a class or instance implements a particular interface.\n",
    "\n",
    "Enforcing polymorphism. ABCs can be used to ensure that subclasses of a particular class behave in a consistent way."
   ]
  },
  {
   "cell_type": "markdown",
   "id": "398a6577-5d1c-4d7b-8390-99ca53aeb87e",
   "metadata": {},
   "source": [
    "### Q4. How can we achieve data abstraction?"
   ]
  },
  {
   "cell_type": "markdown",
   "id": "0664046c-53a0-4fcd-9eae-73e0dc20de16",
   "metadata": {},
   "source": [
    "Data abstraction in Python can be achieved using the following points:\n",
    "\n",
    "Abstract classes and abstract methods:-  Abstract classes are classes that cannot be instantiated, but they can be used to define the interface that must be implemented by subclasses. Abstract methods are methods that have a declaration but do not have an implementation.\n",
    "\n",
    "Access modifiers:-  Access modifiers control the visibility of variables and methods. They can be used to hide the implementation details of an object from the user.\n",
    "\n",
    "Properties:-  Properties are a way of accessing and modifying the state of an object without exposing the underlying implementation.\n",
    "\n",
    "Encapsulation:-  Encapsulation is the process of wrapping data and the methods that work on that data within a single unit. This puts restrictions on accessing variables and methods directly and can prevent the accidental modification of data."
   ]
  },
  {
   "cell_type": "markdown",
   "id": "8d09b2d7-1745-4093-8397-7d4afea0ddb0",
   "metadata": {},
   "source": [
    "### Q5. Can we create an instance of an abstract class? Explain your answer."
   ]
  },
  {
   "cell_type": "markdown",
   "id": "a3b1bb49-e536-4788-8382-6476f89469ba",
   "metadata": {},
   "source": [
    "No, you cannot create an instance (an object that is created from a class) of an abstract class in Python. An abstract class is a class that cannot be instantiated. This is because abstract classes are used to define the interface that must be implemented by subclasses. If you try to create an instance of an abstract class, you will get an error.\n"
   ]
  }
 ],
 "metadata": {
  "kernelspec": {
   "display_name": "Python 3 (ipykernel)",
   "language": "python",
   "name": "python3"
  },
  "language_info": {
   "codemirror_mode": {
    "name": "ipython",
    "version": 3
   },
   "file_extension": ".py",
   "mimetype": "text/x-python",
   "name": "python",
   "nbconvert_exporter": "python",
   "pygments_lexer": "ipython3",
   "version": "3.10.6"
  }
 },
 "nbformat": 4,
 "nbformat_minor": 5
}
