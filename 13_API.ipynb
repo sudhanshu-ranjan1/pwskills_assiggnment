{
 "cells": [
  {
   "cell_type": "markdown",
   "id": "fcc377a5-5c54-4aaa-a2b4-dc45c78af2fe",
   "metadata": {},
   "source": [
    "### Q1. What is an API? Give an example, where an API is used in real life."
   ]
  },
  {
   "cell_type": "markdown",
   "id": "7368301b-16ad-4d4f-8b50-407e073dc277",
   "metadata": {},
   "source": [
    "API stands for Application Programming Interface. It is a set of rules that allow two pieces of software to talk to each other. APIs are used in a wide variety of applications, including web development, mobile development, and embedded systems.\n",
    "\n",
    "One example of an API in real life is the Google Maps API. This API allows developers to integrate Google Maps into their own applications. For example, a weather app could use the Google Maps API to show users the current weather conditions at their current location."
   ]
  },
  {
   "cell_type": "markdown",
   "id": "33d0a2f0-768e-4bd4-9dd5-547d4b99f92d",
   "metadata": {},
   "source": [
    "### Q2. Give advantages and disadvantages of using API."
   ]
  },
  {
   "cell_type": "markdown",
   "id": "b3c8094e-ebc5-4e5c-b606-c505c58cbcff",
   "metadata": {},
   "source": [
    "##### Advantages:\n",
    "\n",
    "1)Increased interoperability: APIs allow different software systems to communicate with each other, regardless of their programming language or platform. This enhances the interoperability between systems, allowing for the exchange of data and functionality.\n",
    "\n",
    "2)Improved efficiency: APIs can help to improve the efficiency of software development by allowing developers to reuse code and functionality from existing software systems. This can save time and reduce the amount of code that needs to be written from scratch.\n",
    "\n",
    "3)Better user experience: APIs can be used to create more user-friendly applications by providing access to data and functionality that would otherwise be difficult or impossible to access. This can improve the overall user experience of an application.\n",
    "\n",
    "4)Increased flexibility: APIs can help to increase the flexibility of software systems by allowing them to be easily extended and modified. This can make it easier to adapt software systems to changing requirements.\n",
    "\n",
    "5)New revenue streams: APIs can be used to generate new revenue streams by providing access to data and functionality to third-party developers. This can be a valuable source of revenue for businesses that own or control valuable data or functionality.\n",
    "\n",
    "##### Disadvantages:\n",
    "\n",
    "1)Security concerns: APIs can be a potential security risk if they are not properly designed and implemented. This is because APIs can expose sensitive data to unauthorized users.\n",
    "\n",
    "2)Complexity: APIs can be complex to develop and use, especially for complex applications. This can make it difficult for developers to learn how to use APIs and for businesses to integrate APIs into their applications.\n",
    "\n",
    "3)Cost: APIs can be expensive to develop and maintain, especially for complex APIs. This can make i3t difficult for small businesses to afford to use APIs.\n",
    "\n",
    "4)Dependency on third-party providers: APIs are often provided by third-party providers. This means that businesses that use APIs are dependent on the third-party providers to keep their APIs up and running. If the third-party provider goes out of business or stops providing their API, businesses that use the API may be affected."
   ]
  },
  {
   "cell_type": "markdown",
   "id": "546d63f0-0a43-4404-baa4-fae223ac7b98",
   "metadata": {},
   "source": [
    "### Q3. What is a Web API? Differentiate between API and Web API."
   ]
  },
  {
   "cell_type": "markdown",
   "id": "3b5a85b5-2522-4f4a-9e9c-ad3dab661d61",
   "metadata": {},
   "source": [
    "A Web API is a specific type of API that is used to connect web applications to back-end services. Web APIs are typically built using HTTP, the same protocol that is used to transfer web pages. This means that Web APIs can be accessed from any web browser or client application that supports HTTP.\n",
    "\n",
    "Feature\t                 API\t                                                Web API\n",
    "Purpose\t    To allow two pieces of software to talk to each other\t       To connect web applications to back-end services\n",
    "Protocol\tCan use any protocol\t                                       Typically uses HTTP\n",
    "Location\tCan be located anywhere\t                                       Typically hosted on a web server\n",
    "Access\t    Can be accessed from any client application\t                   Typically accessed from a web browser or client                                                                              application that supports HTTP"
   ]
  },
  {
   "cell_type": "markdown",
   "id": "e928dcb1-e450-402c-922f-492bd5176096",
   "metadata": {},
   "source": [
    "### Q4. Explain REST and SOAP Architecture. Mention shortcomings of SOAP."
   ]
  },
  {
   "cell_type": "markdown",
   "id": "a35ff352-d95b-466d-9191-fe15450f5f8b",
   "metadata": {},
   "source": [
    "REST and SOAP are two different architectural styles for designing web APIs. REST is a more lightweight and flexible style, while SOAP is a more structured and complex style.\n",
    "\n",
    "REST stands for Representational State Transfer. It is a set of architectural principles that define how web APIs should be designed. REST APIs use HTTP verbs to specify the type of request being made, and they use URIs to identify resources. REST APIs are also stateless, which means that the server does not need to store any state information about the client.\n",
    "\n",
    "SOAP stands for Simple Object Access Protocol. It is a more complex architectural style that uses XML to define the messages that are exchanged between the client and the server. SOAP APIs are typically more verbose than REST APIs, and they can be more difficult to develop and use.\n",
    "\n",
    "Shortcomings of SOAP\n",
    "\n",
    "1)SOAP is more complex than REST. SOAP uses XML to define the messages that are exchanged between the client and the server, which can make it more difficult to develop and use.\n",
    "\n",
    "2)SOAP is less efficient than REST. SOAP messages are typically larger than REST messages, which can make them less efficient to transmit over the network.\n",
    "\n",
    "3)SOAP is not as widely supported as REST. REST is a more popular architectural style than SOAP, which means that there are more libraries and tools available for developing REST APIs."
   ]
  },
  {
   "cell_type": "markdown",
   "id": "29214e4c-dca0-4f7e-a8da-d500f902a771",
   "metadata": {},
   "source": [
    "### Q5. Differentiate between REST and SOAP."
   ]
  },
  {
   "cell_type": "code",
   "execution_count": null,
   "id": "b0930037-7e31-4ef0-873f-18f4d7aa7cb1",
   "metadata": {},
   "outputs": [],
   "source": [
    "Feature\t               REST\t                                  SOAP\n",
    "Principles\t    Representational State Transfer          \tSimple Object Access Protocol\n",
    "Messaging\t    HTTP verbs\t                                XML\n",
    "Statelessness\tStateless\t                                Stateful\n",
    "Ease of use\t    Easy to use\t                                More complex\n",
    "Extensibility\tHighly extensible\t                        Less extensible"
   ]
  }
 ],
 "metadata": {
  "kernelspec": {
   "display_name": "Python 3 (ipykernel)",
   "language": "python",
   "name": "python3"
  },
  "language_info": {
   "codemirror_mode": {
    "name": "ipython",
    "version": 3
   },
   "file_extension": ".py",
   "mimetype": "text/x-python",
   "name": "python",
   "nbconvert_exporter": "python",
   "pygments_lexer": "ipython3",
   "version": "3.10.6"
  }
 },
 "nbformat": 4,
 "nbformat_minor": 5
}
