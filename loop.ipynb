{
 "cells": [
  {
   "cell_type": "raw",
   "id": "c73aead6-b849-479f-983e-e99e04bbc506",
   "metadata": {},
   "source": [
    "Q1. Explain with an example each when to use a for loop and a while loop."
   ]
  },
  {
   "cell_type": "code",
   "execution_count": null,
   "id": "6ea5eea7-97db-4492-8c40-766110cea48b",
   "metadata": {},
   "outputs": [],
   "source": [
    "Ans:- For loop:-we use for loop when we alredy know the iternation of the statement for example \n",
    "                we know how many times we have use the statement then we use the for loop.\n",
    "      examples:- \n",
    "        fruits = [\"apple\", \"banana\", \"cherry\"]\n",
    "        for fruit in fruits:\n",
    "        print(fruit)\n",
    "    \n",
    "    \n",
    "      while loop:- A \"while\" loop is used when the number of iterations is unknown. \n",
    "                  The statement repeats itself till the boolean value becomes false.\n",
    "            \n",
    "       examples:-\n",
    "       i = 1\n",
    "       n = 5\n",
    "       while i <= n:\n",
    "       print(i)\n",
    "       i = i + 1"
   ]
  },
  {
   "cell_type": "raw",
   "id": "d0439fb2-f050-477b-be5e-28348ca88ff2",
   "metadata": {},
   "source": [
    "Q2.Write a python program to print the sum and product of the first 10 natural numbers using for\n",
    "and while loop."
   ]
  },
  {
   "cell_type": "raw",
   "id": "d9ae5b97-32b1-45d0-94b3-9ce1c128d9d8",
   "metadata": {},
   "source": []
  }
 ],
 "metadata": {
  "kernelspec": {
   "display_name": "Python 3 (ipykernel)",
   "language": "python",
   "name": "python3"
  },
  "language_info": {
   "codemirror_mode": {
    "name": "ipython",
    "version": 3
   },
   "file_extension": ".py",
   "mimetype": "text/x-python",
   "name": "python",
   "nbconvert_exporter": "python",
   "pygments_lexer": "ipython3",
   "version": "3.10.6"
  }
 },
 "nbformat": 4,
 "nbformat_minor": 5
}
